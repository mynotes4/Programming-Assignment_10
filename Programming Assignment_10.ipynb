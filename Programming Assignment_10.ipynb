{
 "cells": [
  {
   "cell_type": "code",
   "execution_count": null,
   "id": "a8c320da",
   "metadata": {},
   "outputs": [],
   "source": [
    "# 1. Write a Python program to find sum of elements in list?\n",
    "def list_input(a):\n",
    "    \"\"\"This function is used to take input for list\"\"\"\n",
    "    n = int(input(\"Enter no of elements \"))\n",
    "    for i in range(n):\n",
    "        a.append(int(input(\"Enter Element \")))\n",
    "    return a\n",
    "\n",
    "l = [ ]\n",
    "l = list_input(l)\n",
    "s = 0\n",
    "for i in l:\n",
    "    s = s + i\n",
    "print(\"Sum = \",s)"
   ]
  },
  {
   "cell_type": "code",
   "execution_count": null,
   "id": "2acbe5cb",
   "metadata": {},
   "outputs": [],
   "source": [
    "# 2 . Write a Python program to  Multiply all numbers in the list?\n",
    "def list_input(a):\n",
    "    \"\"\"This function is used to take input for list\"\"\"\n",
    "    n = int(input(\"Enter no of elements \"))\n",
    "    for i in range(n):\n",
    "        a.append(int(input(\"Enter Element \")))\n",
    "    return a\n",
    "\n",
    "l = [ ]\n",
    "l = list_input(l)\n",
    "m = 1\n",
    "for i in l:\n",
    "    m = m * i\n",
    "print(\"Multiplication = \",m)"
   ]
  },
  {
   "cell_type": "code",
   "execution_count": null,
   "id": "3ca5f5ff",
   "metadata": {},
   "outputs": [],
   "source": [
    "# 3 . Write a Python program to find smallest number in a list?\n",
    "def list_input(a):\n",
    "    \"\"\"This function is used to take input for list\"\"\"\n",
    "    n = int(input(\"Enter no of elements \"))\n",
    "    for i in range(n):\n",
    "        a.append(int(input(\"Enter Element \")))\n",
    "    return a\n",
    "\n",
    "l = [ ]\n",
    "l = list_input(l)\n",
    "s = l[0]\n",
    "for i in l:\n",
    "    if s > i:\n",
    "        s = i\n",
    "print(\"Smallest no  = \",s)"
   ]
  },
  {
   "cell_type": "code",
   "execution_count": null,
   "id": "60fd7f38",
   "metadata": {},
   "outputs": [],
   "source": [
    "# q3 method 2 \n",
    "def list_input(a):\n",
    "    \"\"\"This function is used to take input for list\"\"\"\n",
    "    n = int(input(\"Enter no of elements \"))\n",
    "    for i in range(n):\n",
    "        a.append(int(input(\"Enter Element \")))\n",
    "    return a\n",
    "\n",
    "l = [ ]\n",
    "l = list_input(l)\n",
    "s = min(l)\n",
    "print(\"Smallest no is \" , s)"
   ]
  },
  {
   "cell_type": "code",
   "execution_count": null,
   "id": "fe30ed93",
   "metadata": {},
   "outputs": [],
   "source": [
    "# 4 . Write a Python program to find largest number in a list?\n",
    "def list_input(a):\n",
    "    \"\"\"This function is used to take input for list\"\"\"\n",
    "    n = int(input(\"Enter no of elements \"))\n",
    "    for i in range(n):\n",
    "        a.append(int(input(\"Enter Element \")))\n",
    "    return a\n",
    "\n",
    "l = [ ]\n",
    "l = list_input(l)\n",
    "s = l[0]\n",
    "for i in l:\n",
    "    if s < i:\n",
    "        s = i\n",
    "print(\"Largest no  = \",s)"
   ]
  },
  {
   "cell_type": "code",
   "execution_count": null,
   "id": "232b5166",
   "metadata": {},
   "outputs": [],
   "source": [
    "# q4 method 2 \n",
    "def list_input(a):\n",
    "    \"\"\"This function is used to take input for list\"\"\"\n",
    "    n = int(input(\"Enter no of elements \"))\n",
    "    for i in range(n):\n",
    "        a.append(int(input(\"Enter Element \")))\n",
    "    return a\n",
    "\n",
    "l = [ ]\n",
    "l = list_input(l)\n",
    "s = max(l)\n",
    "print(\"Largest no is \" , s)"
   ]
  },
  {
   "cell_type": "code",
   "execution_count": null,
   "id": "a6ab74d9",
   "metadata": {},
   "outputs": [],
   "source": [
    "# 5 . Write a Python program to find second largest number in a list?\n",
    "def list_input(a):\n",
    "    \"\"\"This function is used to take input for list\"\"\"\n",
    "    n = int(input(\"Enter no of elements \"))\n",
    "    for i in range(n):\n",
    "        a.append(int(input(\"Enter Element \")))\n",
    "    return a\n",
    "\n",
    "l = [ ]\n",
    "l = list_input(l)\n",
    "s1 = l[0]\n",
    "s2 = l[0]\n",
    "for i in l:\n",
    "    if s1 < i:\n",
    "        s1 = i\n",
    "print(s1)\n",
    "for i in l:\n",
    "    if s2 < i and s2 < s1 and i!= s1:\n",
    "        s2 = i        \n",
    "print(\"Second Largest no  = \",s2)"
   ]
  },
  {
   "cell_type": "code",
   "execution_count": null,
   "id": "1fb9b793",
   "metadata": {},
   "outputs": [],
   "source": [
    "# q5 method 2 \n",
    "def list_input(a):\n",
    "    \"\"\"This function is used to take input for list\"\"\"\n",
    "    n = int(input(\"Enter no of elements \"))\n",
    "    for i in range(n):\n",
    "        a.append(int(input(\"Enter Element \")))\n",
    "    return a\n",
    "\n",
    "l = [ ]\n",
    "l = list_input(l)\n",
    "l.sort()\n",
    "print(\"Second Largest element is \" , l[-2])"
   ]
  },
  {
   "cell_type": "code",
   "execution_count": null,
   "id": "c9fd16c2",
   "metadata": {},
   "outputs": [],
   "source": [
    "# 6. Write a Python program to find N largest elements from a list?\n",
    "def list_input(a):\n",
    "    \"\"\"This function is used to take input for list\"\"\"\n",
    "    n = int(input(\"Enter no of elements \"))\n",
    "    for i in range(n):\n",
    "        a.append(int(input(\"Enter Element \")))\n",
    "    return a\n",
    "\n",
    "l = [ ]\n",
    "l = list_input(l)\n",
    "l.sort()\n",
    "n = int(input(\"Enter the no of largest element you want \"))\n",
    "print(n,\"th Largest element is \" , l[-n])"
   ]
  },
  {
   "cell_type": "code",
   "execution_count": null,
   "id": "3b067f99",
   "metadata": {},
   "outputs": [],
   "source": [
    "# 7. Write a Python program to print even numbers in a list?\n",
    "def list_input(a):\n",
    "    \"\"\"This function is used to take input for list\"\"\"\n",
    "    n = int(input(\"Enter no of elements \"))\n",
    "    for i in range(n):\n",
    "        a.append(int(input(\"Enter Element \")))\n",
    "    return a\n",
    "\n",
    "l = [ ]\n",
    "l = list_input(l)\n",
    "for i in l:\n",
    "    if i % 2 == 0:\n",
    "        print(i)"
   ]
  },
  {
   "cell_type": "code",
   "execution_count": null,
   "id": "8c97167e",
   "metadata": {},
   "outputs": [],
   "source": [
    "# 8. Write a Python program to print odd numbers in a List?\n",
    "def list_input(a):\n",
    "    \"\"\"This function is used to take input for list\"\"\"\n",
    "    n = int(input(\"Enter no of elements \"))\n",
    "    for i in range(n):\n",
    "        a.append(int(input(\"Enter Element \")))\n",
    "    return a\n",
    "\n",
    "l = [ ]\n",
    "l = list_input(l)\n",
    "for i in l:\n",
    "    if i % 2 != 0:\n",
    "        print(i)"
   ]
  },
  {
   "cell_type": "code",
   "execution_count": null,
   "id": "3a303547",
   "metadata": {},
   "outputs": [],
   "source": [
    "# 9. Write a Python program to Remove empty List from List\n",
    "l = [2 , 68 , \"flower\" , {2 , 4 , \"aa\"} , [] , {\"a\":\"n\" , 2:4}]\n",
    "for i in l:\n",
    "    if i == []:\n",
    "        l.remove([])\n",
    "print(l)"
   ]
  },
  {
   "cell_type": "code",
   "execution_count": null,
   "id": "9b4af072",
   "metadata": {},
   "outputs": [],
   "source": [
    "# 8. Write a Python program to Cloning or Copying a list?\n",
    "l = input(\"Enter List \")\n",
    "l = l.split(\" \")\n",
    "lcopy = l.copy()\n",
    "print(\"Cloned list = \" ,lcopy)"
   ]
  },
  {
   "cell_type": "code",
   "execution_count": null,
   "id": "acf9c742",
   "metadata": {},
   "outputs": [],
   "source": [
    "# 11. Write a Python program to Count occurrences of an element in a list?\n",
    "# method 1\n",
    "l = input(\"Enter List \")\n",
    "l = l.split(\" \")\n",
    "l1 = []\n",
    "l2 = []\n",
    "for i in l:\n",
    "    if i not in l1:\n",
    "        l1.append(i)\n",
    "        l2.append(1)\n",
    "    else:\n",
    "        l2[l1.index(i)] = l2[l1.index(i)] + 1\n",
    "for i in range(len(l1)):\n",
    "    print(l1[i],l2[i])"
   ]
  },
  {
   "cell_type": "code",
   "execution_count": null,
   "id": "ba820a27",
   "metadata": {},
   "outputs": [],
   "source": [
    "# q11 method 2\n",
    "l = input(\"Enter List \")\n",
    "l = l.split(\" \")\n",
    "l1 = []\n",
    "l2 = []\n",
    "for i in l:\n",
    "    if i not in l1:\n",
    "        l1.append(i)\n",
    "        l2.append(l.count(i))\n",
    "for i in range(len(l1)):\n",
    "    print(l1[i],l2[i])"
   ]
  }
 ],
 "metadata": {
  "kernelspec": {
   "display_name": "Python 3 (ipykernel)",
   "language": "python",
   "name": "python3"
  },
  "language_info": {
   "codemirror_mode": {
    "name": "ipython",
    "version": 3
   },
   "file_extension": ".py",
   "mimetype": "text/x-python",
   "name": "python",
   "nbconvert_exporter": "python",
   "pygments_lexer": "ipython3",
   "version": "3.9.12"
  }
 },
 "nbformat": 4,
 "nbformat_minor": 5
}
